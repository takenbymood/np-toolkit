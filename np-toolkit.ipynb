{
 "cells": [
  {
   "cell_type": "code",
   "execution_count": 238,
   "metadata": {},
   "outputs": [],
   "source": [
    "import os\n",
    "import subprocess\n",
    "import sys\n",
    "import numpy as np\n",
    "from __future__ import print_function\n",
    "from ipywidgets import interact, interactive, fixed, interact_manual\n",
    "import ipywidgets as widgets"
   ]
  },
  {
   "cell_type": "markdown",
   "metadata": {},
   "source": [
    "FUNCTIONS"
   ]
  },
  {
   "cell_type": "code",
   "execution_count": 244,
   "metadata": {},
   "outputs": [],
   "source": [
    "def runLammpsScript(filePath,log):\n",
    "    #get the absolute path of the lammps installation\n",
    "    #if this fails, be sure to build lammps by running 'build_lammps.sh'\n",
    "    lammpsPath = os.path.join(str(os.getcwd()),\"lammps/src/lmp_mpi\")\n",
    "    \n",
    "    #construct the command for running lammps from python\n",
    "    command = [lammpsPath,'-in',\"{}\".format(filePath)]\n",
    "    \n",
    "    #run the command\n",
    "    p = subprocess.Popen(command, stdout=subprocess.PIPE)\n",
    "    \n",
    "    #if the user wants a log, this is printed here\n",
    "    if log:\n",
    "        while True:\n",
    "            line = p.stdout.readline().rstrip()\n",
    "            if not line:\n",
    "                break\n",
    "            print(line)\n",
    "        print('done!')"
   ]
  },
  {
   "cell_type": "code",
   "execution_count": 245,
   "metadata": {},
   "outputs": [],
   "source": [
    "def buildLammpsScript(eps):\n",
    "    #re-read the template file in case there are changes\n",
    "    template = ''\n",
    "    with open('template/sp_script.in', 'r') as file:\n",
    "        template = file.read()\n",
    "    #turn the template file into a script file with the chosen user inputs\n",
    "    lammpsScript = template.replace('[PEPS]',str(eps)).replace('[DATAPATH]',\"\\\"\"+ os.path.join(str(os.getcwd()),'data/sp_data.data')+\"\\\"\")\n",
    "    \n",
    "    #get the absolute path of the script file and give it an appropriate name\n",
    "    scriptPath = os.path.join(str(os.getcwd()),'sp_script_{}.in'.format(str(eps).replace('.','_')))\n",
    "    \n",
    "    #write script file to the filepath we chose\n",
    "    with open(scriptPath, 'w+') as file:\n",
    "        file.write(lammpsScript)\n",
    "        \n",
    "    #return the path of the generated script\n",
    "    return scriptPath"
   ]
  },
  {
   "cell_type": "code",
   "execution_count": 246,
   "metadata": {},
   "outputs": [],
   "source": [
    "def generateSimulation(eps,log):\n",
    "    #this function just does everything above in a clean way\n",
    "    runLammpsScript(buildLammpsScript(eps),log)\n",
    "    "
   ]
  },
  {
   "cell_type": "markdown",
   "metadata": {},
   "source": [
    "CONTROLS"
   ]
  },
  {
   "cell_type": "code",
   "execution_count": 247,
   "metadata": {},
   "outputs": [
    {
     "data": {
      "application/vnd.jupyter.widget-view+json": {
       "model_id": "b909a3d941004416a03a4408c739f9ba",
       "version_major": 2,
       "version_minor": 0
      },
      "text/html": [
       "<p>Failed to display Jupyter Widget of type <code>interactive</code>.</p>\n",
       "<p>\n",
       "  If you're reading this message in the Jupyter Notebook or JupyterLab Notebook, it may mean\n",
       "  that the widgets JavaScript is still loading. If this message persists, it\n",
       "  likely means that the widgets JavaScript library is either not installed or\n",
       "  not enabled. See the <a href=\"https://ipywidgets.readthedocs.io/en/stable/user_install.html\">Jupyter\n",
       "  Widgets Documentation</a> for setup instructions.\n",
       "</p>\n",
       "<p>\n",
       "  If you're reading this message in another frontend (for example, a static\n",
       "  rendering on GitHub or <a href=\"https://nbviewer.jupyter.org/\">NBViewer</a>),\n",
       "  it may mean that your frontend doesn't currently support widgets.\n",
       "</p>\n"
      ],
      "text/plain": [
       "interactive(children=(FloatSlider(value=0.0, description=u'eps', max=25.0, min=-5.0), Checkbox(value=True, description=u'log'), Button(description=u'Run Interact', style=ButtonStyle()), Output()), _dom_classes=('widget-interact',))"
      ]
     },
     "metadata": {},
     "output_type": "display_data"
    }
   ],
   "source": [
    "#running this will create slider which controls the interaction strength of the generated simulation\n",
    "\n",
    "#output is saved in the parent folder as \"particle_${EPS}_out.xyz and can be opened with ovito or vmd!\n",
    "\n",
    "interact_manual(generateSimulation,log=True,eps=widgets.FloatSlider(min=-5, max=25, step=0.1));"
   ]
  },
  {
   "cell_type": "code",
   "execution_count": null,
   "metadata": {},
   "outputs": [],
   "source": []
  }
 ],
 "metadata": {
  "kernelspec": {
   "display_name": "Python 2",
   "language": "python",
   "name": "python2"
  },
  "language_info": {
   "codemirror_mode": {
    "name": "ipython",
    "version": 2
   },
   "file_extension": ".py",
   "mimetype": "text/x-python",
   "name": "python",
   "nbconvert_exporter": "python",
   "pygments_lexer": "ipython2",
   "version": "2.7.14"
  }
 },
 "nbformat": 4,
 "nbformat_minor": 2
}
